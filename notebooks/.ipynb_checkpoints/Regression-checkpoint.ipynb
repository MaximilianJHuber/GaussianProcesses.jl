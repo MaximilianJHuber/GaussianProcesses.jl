{
 "cells": [
  {
   "cell_type": "markdown",
   "metadata": {},
   "source": [
    "# Simple GP Regression "
   ]
  },
  {
   "cell_type": "markdown",
   "metadata": {},
   "source": [
    "Gaussian processes are a powerful tool for nonlinear regression models. \n",
    "\n",
    "Assume that we have **predictor** variables $\\mathbf{X} = \\{\\mathbf{x_i}\\}_{i=1}^N \\in \\mathbb{R}^d$ and **response** variables $\\mathbf{y}=\\{y_i \\in \\mathbb{R}\\}_{i=1}^N$.\n",
    "\n",
    "The response variables $\\mathbf{y}$ are assumed to dependent on the predictors $\\mathbf{X}$,\n",
    "\n",
    "\\begin{equation}\n",
    "y_i \\sim \\mathcal{N}(f(\\mathbf{x}_i),\\sigma^2), \\ i=1,\\ldots,n,  \n",
    "\\end{equation}\n",
    "\n",
    "where $f$ is a mapping function. Treating $f$ as a random function, we assume that the distribution over $f$ is a **Gaussian process**,\n",
    "$$\n",
    "f \\sim \\mathcal{GP}(m(\\mathbf{x}),k(\\mathbf{x},\\mathbf{x}')),\n",
    "$$\n",
    "where $m(\\cdot)$ and $k(\\cdot,\\cdot)$ are the mean and kernel functions respectively."
   ]
  },
  {
   "cell_type": "markdown",
   "metadata": {},
   "source": [
    "## 1D regression example"
   ]
  },
  {
   "cell_type": "markdown",
   "metadata": {},
   "source": [
    "We start by simulating some data"
   ]
  },
  {
   "cell_type": "code",
   "execution_count": 11,
   "metadata": {},
   "outputs": [
    {
     "name": "stderr",
     "output_type": "stream",
     "text": [
      "\u001b[1m\u001b[34mINFO: Removing Distances v0.4.1\n",
      "\u001b[0m\u001b[1m\u001b[34mINFO: Removing GaussianProcesses v0.4.0\n",
      "\u001b[0m\u001b[1m\u001b[34mINFO: Removing ScikitLearnBase v0.3.0\n",
      "\u001b[0m\u001b[1m\u001b[34mINFO: Package database updated\n",
      "\u001b[0m\u001b[1m\u001b[34mINFO: Cloning GaussianProcesses from https://github.com/STOR-i/GaussianProcesses.jl.git\n",
      "\u001b[0m\u001b[1m\u001b[34mINFO: Computing changes...\n",
      "\u001b[0m\u001b[1m\u001b[34mINFO: Cloning cache of FastGaussQuadrature from https://github.com/ajt60gaibb/FastGaussQuadrature.jl.git\n",
      "\u001b[0m\u001b[1m\u001b[34mINFO: Installing Distances v0.4.1\n",
      "\u001b[0m\u001b[1m\u001b[34mINFO: Installing FastGaussQuadrature v0.2.1\n",
      "\u001b[0m\u001b[1m\u001b[34mINFO: Installing ScikitLearnBase v0.3.0\n",
      "\u001b[0m\u001b[1m\u001b[34mINFO: Package database updated\n",
      "\u001b[0m"
     ]
    }
   ],
   "source": [
    "Pkg.rm(\"GaussianProcesses\")\n",
    "Pkg.clone(\"https://github.com/STOR-i/GaussianProcesses.jl.git\")"
   ]
  },
  {
   "cell_type": "code",
   "execution_count": 12,
   "metadata": {
    "collapsed": true
   },
   "outputs": [],
   "source": [
    "using GaussianProcesses\n",
    "\n",
    "srand(13579)\n",
    "# Training data\n",
    "n=10;                          #number of training points\n",
    "x = 2π * rand(n);              #predictors\n",
    "y = sin.(x) + 0.05*randn(n);    #regressors"
   ]
  },
  {
   "cell_type": "markdown",
   "metadata": {},
   "source": [
    "The first step in modelling with Gaussian Processes is to choose mean functions and kernels which describe the process. \n",
    "\n",
    "**Note** that all hyperparameters for the **mean** and **kernel** functions and $\\sigma$ are given on the log scale. This is true for all strictly positive hyperparameters. Gaussian Processes are represented by objects of type 'GP' and constructed from observation data, a mean function and kernel, and optionally the amount of observation noise."
   ]
  },
  {
   "cell_type": "code",
   "execution_count": 13,
   "metadata": {},
   "outputs": [
    {
     "data": {
      "text/plain": [
       "GP object:\n",
       "  Dim = 1\n",
       "  Number of observations = 10\n",
       "  Mean function:\n",
       "    Type: GaussianProcesses.MeanConst, Params: [0.0]\n",
       "  Kernel:\n",
       "    Type: GaussianProcesses.SEIso, Params: [0.0,0.0]\n",
       "  Input observations = \n",
       "[5.66072 1.67222 … 6.08978 3.39451]\n",
       "  Output observations = [-0.505287,1.02312,0.616955,-0.777658,-0.875402,0.92976,-1.04525,-0.00543704,-0.301759,-0.364661]\n",
       "  Variance of observation noise = 0.1353352832366127\n",
       "  Marginal Log-Likelihood = -6.719"
      ]
     },
     "execution_count": 13,
     "metadata": {},
     "output_type": "execute_result"
    }
   ],
   "source": [
    "#Select mean and covariance function\n",
    "mZero = MeanZero()                   #Zero mean function\n",
    "kern = SE(0.0,0.0)                   #Sqaured exponential kernel (note that hyperparameters are on the log scale)\n",
    "\n",
    "logObsNoise = -1.0                        # log standard deviation of observation noise (this is optional)\n",
    "gp = GP(x,y,mZero,kern,logObsNoise)       #Fit the GP"
   ]
  },
  {
   "cell_type": "markdown",
   "metadata": {},
   "source": [
    "Once we've fit the `GP` function to the data, we can calculate the **predicted mean** and **variance** of of the function at unobserved points $\\{\\mathbf{x}^\\ast,y^\\ast\\}$, conditional on the observed data $\\mathcal{D}=\\{\\mathbf{y},\\mathbf{X}\\}$. This is done with the `predict_y` function.\n",
    "\n",
    "The `predict_y` function returns the mean vector $\\mu(\\mathbf{x}^\\ast)$ and covariance matrix (variance vector if `full_cov=false`) $\\Sigma(\\mathbf{x}^\\ast,\\mathbf{x}^{\\ast^\\top})$ of the predictive distribution,\n",
    "\\begin{equation}\n",
    "    y^\\ast|\\mathbf{x}^\\ast,\\mathcal{D} \\sim \\mathcal{N}(\\mu(\\mathbf{x}^\\ast),\\Sigma(\\mathbf{x}^\\ast,\\mathbf{x}^{\\ast^\\top})+\\sigma^2\\mathbf{I}),\n",
    "\\end{equation}\n",
    "where \n",
    "\\begin{eqnarray}\n",
    "\\mu(\\mathbf{x}^\\ast) &=& k(\\mathbf{x}^\\ast,\\mathbf{X})(k(\\mathbf{X}, \\mathbf{X}) + \\sigma_n^2 \\mathbf{I})^{-1}\\mathbf{y} \\\\ \\ \\mbox{and} \\\n",
    "\\Sigma(\\mathbf{x}^\\ast,\\mathbf{x}^{\\ast}) &=& k(\\mathbf{x}^\\ast,\\mathbf{x}^\\ast) -k(\\mathbf{x}^\\ast,\\mathbf{X})(k(\\mathbf{X}, \\mathbf{X})+ \\sigma_n^2 \\mathbf{I})^{-1} k(\\mathbf{X},\\mathbf{x}^\\ast).\n",
    "\\end{eqnarray}\n",
    "\n",
    "**Note** you can use the `predict_f` function to predict the latent function $\\mathbf{f}^\\ast$."
   ]
  },
  {
   "cell_type": "code",
   "execution_count": 14,
   "metadata": {},
   "outputs": [
    {
     "ename": "LoadError",
     "evalue": "UndefVarError: predict_y not defined",
     "output_type": "error",
     "traceback": [
      "UndefVarError: predict_y not defined",
      ""
     ]
    }
   ],
   "source": [
    "μ, σ² = predict_y(gp,linspace(0,2π,100))"
   ]
  },
  {
   "cell_type": "markdown",
   "metadata": {},
   "source": [
    "Plotting GPs is straightforward and utilises the recipes approach to plotting from the [Plots.jl](https://github.com/JuliaPlots/Plots.jl) package. More information about plotting GPs and the available functionality can be found in this [notebook](https://github.com/STOR-i/GaussianProcesses.jl/blob/master/notebooks/Plotting%20GPs.ipynb).\n",
    "\n",
    "The default plot function `plot(gp)` outputs the predicted mean and variance of the function (i.e. uses `predict_f` in the background), with the uncertainty in the function represented by a confidence ribbon (set to 95% by default). All optional plotting arguments are given after `;`."
   ]
  },
  {
   "cell_type": "code",
   "execution_count": 26,
   "metadata": {},
   "outputs": [
    {
     "ename": "LoadError",
     "evalue": "In convertToAnyVector, could not handle the argument types: (GaussianProcesses.GP,)",
     "output_type": "error",
     "traceback": [
      "In convertToAnyVector, could not handle the argument types: (GaussianProcesses.GP,)",
      "",
      " in macro expansion at C:\\Users\\Max\\.julia\\v0.5\\Plots\\src\\series.jl:129 [inlined]",
      " in apply_recipe(::Dict{Symbol,Any}, ::Type{Plots.SliceIt}, ::Void, ::GaussianProcesses.GP, ::Void) at C:\\Users\\Max\\.julia\\v0.5\\RecipesBase\\src\\RecipesBase.jl:238",
      " in _process_userrecipes(::Plots.Plot{Plots.PyPlotBackend}, ::Dict{Symbol,Any}, ::Tuple{GaussianProcesses.GP}) at C:\\Users\\Max\\.julia\\v0.5\\Plots\\src\\pipeline.jl:73",
      " in _plot!(::Plots.Plot{Plots.PyPlotBackend}, ::Dict{Symbol,Any}, ::Tuple{GaussianProcesses.GP}) at C:\\Users\\Max\\.julia\\v0.5\\Plots\\src\\plot.jl:171",
      " in (::Plots.#kw##plot)(::Array{Any,1}, ::Plots.#plot, ::GaussianProcesses.GP) at .\\<missing>:0"
     ]
    }
   ],
   "source": [
    "using Plots  #Load Plots.jl package\n",
    "\n",
    "plot(gp; xlabel=\"x\", ylabel=\"y\", title=\"Gaussian process\", legend=false, fmt=:png)      #Plot the GP"
   ]
  },
  {
   "cell_type": "markdown",
   "metadata": {},
   "source": [
    "The hyperparameters are optimized using the [Optim.jl](https://github.com/JuliaOpt/Optim.jl) package. This offers users a range of optimization algorithms which can be applied to estimate the hyperparameters using type II maximum likelihood estimation. Gradients are available for all mean and kernel functions used in the package and therefore it is recommended that the user utilizes gradient based optimization techniques. As a default, the `optimize!` function uses the `L-BFGS` solver, however, alternative solvers can be applied. "
   ]
  },
  {
   "cell_type": "code",
   "execution_count": 27,
   "metadata": {},
   "outputs": [
    {
     "ename": "LoadError",
     "evalue": "UndefVarError: DifferentiableFunction not defined",
     "output_type": "error",
     "traceback": [
      "UndefVarError: DifferentiableFunction not defined",
      "",
      " in #get_optim_target#20(::Bool, ::Bool, ::Bool, ::Function, ::GaussianProcesses.GP) at C:\\Users\\Max\\.julia\\v0.5\\GaussianProcesses\\src\\optimize.jl:74",
      " in (::GaussianProcesses.#kw##get_optim_target)(::Array{Any,1}, ::GaussianProcesses.#get_optim_target, ::GaussianProcesses.GP) at .\\<missing>:0",
      " in #optimize!#19(::Bool, ::Bool, ::Bool, ::Optim.BFGS{LineSearches.#hagerzhang!,Optim.##62#64}, ::Array{Any,1}, ::Function, ::GaussianProcesses.GP) at C:\\Users\\Max\\.julia\\v0.5\\GaussianProcesses\\src\\optimize.jl:17",
      " in (::GaussianProcesses.#kw##optimize!)(::Array{Any,1}, ::GaussianProcesses.#optimize!, ::GaussianProcesses.GP) at .\\<missing>:0"
     ]
    }
   ],
   "source": [
    "optimize!(gp; method=Optim.BFGS())   #Optimise the hyperparameters"
   ]
  },
  {
   "cell_type": "code",
   "execution_count": 15,
   "metadata": {},
   "outputs": [
    {
     "ename": "LoadError",
     "evalue": "In convertToAnyVector, could not handle the argument types: (GaussianProcesses.GP,)",
     "output_type": "error",
     "traceback": [
      "In convertToAnyVector, could not handle the argument types: (GaussianProcesses.GP,)",
      "",
      " in macro expansion at C:\\Users\\Max\\.julia\\v0.5\\Plots\\src\\series.jl:129 [inlined]",
      " in apply_recipe(::Dict{Symbol,Any}, ::Type{Plots.SliceIt}, ::Void, ::GaussianProcesses.GP, ::Void) at C:\\Users\\Max\\.julia\\v0.5\\RecipesBase\\src\\RecipesBase.jl:238",
      " in _process_userrecipes(::Plots.Plot{Plots.PyPlotBackend}, ::Dict{Symbol,Any}, ::Tuple{GaussianProcesses.GP}) at C:\\Users\\Max\\.julia\\v0.5\\Plots\\src\\pipeline.jl:73",
      " in _plot!(::Plots.Plot{Plots.PyPlotBackend}, ::Dict{Symbol,Any}, ::Tuple{GaussianProcesses.GP}) at C:\\Users\\Max\\.julia\\v0.5\\Plots\\src\\plot.jl:171",
      " in plot(::GaussianProcesses.GP) at C:\\Users\\Max\\.julia\\v0.5\\Plots\\src\\plot.jl:46"
     ]
    }
   ],
   "source": [
    "plot(gp)   #Plot the GP after the hyperparameters have been optimised "
   ]
  },
  {
   "cell_type": "markdown",
   "metadata": {},
   "source": [
    "## Multi-dimensional regression"
   ]
  },
  {
   "cell_type": "markdown",
   "metadata": {},
   "source": [
    "The regression example above can be easily extended to higher dimensions. For the purpose of visualisation, and without loss of generality, we consider a 2 dimensional regression example."
   ]
  },
  {
   "cell_type": "code",
   "execution_count": 16,
   "metadata": {
    "collapsed": true
   },
   "outputs": [],
   "source": [
    "#Training data\n",
    "d, n = 2, 50;         #Dimension and number of observations\n",
    "x = 2π * rand(d, n);                               #Predictors\n",
    "y = vec(sin.(x[1,:]).*sin.(x[2,:])) + 0.05*rand(n);  #Responses"
   ]
  },
  {
   "cell_type": "markdown",
   "metadata": {},
   "source": [
    "For problems of dimension>1 we can use isotropic (`Iso`) kernels or automatic relevance determination (`ARD`) kernels. For `Iso` kernels, the length scale parameter $\\ell$ is the same for all dimensions. For `ARD` kernels, each dimension has different length scale parameter.\n",
    "\n",
    "The `Iso` and `ARD` kernels are implemented automatically by replacing the single length scale parameter with a vector of parameters. For example, below we use the Matern 5/2 `ARD` kernel, if we wanted to use the `Iso` alternative then we would set the kernel as `kern=Mat(5/2,0.0,0.0)`."
   ]
  },
  {
   "cell_type": "markdown",
   "metadata": {},
   "source": [
    "In this example we use a composite kernel represented as the sum of a Matern 5/2 ARD kernel and a Squared Exponential isotropic kernel. This is easily implemented using the `+` symbol, or in the case of a product kernel, using the `*` symbol (i.e. `kern = Mat(5/2,[0.0,0.0],0.0) * SE(0.0,0.0)`)."
   ]
  },
  {
   "cell_type": "code",
   "execution_count": 17,
   "metadata": {},
   "outputs": [
    {
     "ename": "LoadError",
     "evalue": "UndefVarError: Matern not defined",
     "output_type": "error",
     "traceback": [
      "UndefVarError: Matern not defined",
      ""
     ]
    }
   ],
   "source": [
    "mZero = MeanZero()                             # Zero mean function\n",
    "kern = Matern(5/2,[0.0,0.0],0.0) + SE(0.0,0.0)    # Sum kernel with Matern 5/2 ARD kernel \n",
    "                                               # with parameters [log(ℓ₁), log(ℓ₂)] = [0,0] and log(σ) = 0\n",
    "                                               # and Squared Exponential Iso kernel with\n",
    "                                               # parameters log(ℓ) = 0 and log(σ) = 0"
   ]
  },
  {
   "cell_type": "markdown",
   "metadata": {},
   "source": [
    "Fit the Gaussian process to the data using the prespecfied mean and covariance functions."
   ]
  },
  {
   "cell_type": "code",
   "execution_count": 18,
   "metadata": {},
   "outputs": [
    {
     "data": {
      "text/plain": [
       "GP object:\n",
       "  Dim = 2\n",
       "  Number of observations = 50\n",
       "  Mean function:\n",
       "    Type: GaussianProcesses.MeanConst, Params: [0.0]\n",
       "  Kernel:\n",
       "    Type: GaussianProcesses.SEIso, Params: [0.0,0.0]\n",
       "  Input observations = \n",
       "[1.43935 0.515919 … 0.487943 2.38029; 4.21509 3.59947 … 0.699132 4.09243]\n",
       "  Output observations = [-0.850956,-0.173897,0.555086,-0.579203,-0.116111,-0.304235,-0.192372,-0.55408,0.649668,-0.226597  …  -0.874219,-0.136116,0.485536,0.571545,-0.387655,0.200481,-0.33697,0.395318,0.340145,-0.545092]\n",
       "  Variance of observation noise = 0.01831563888873418\n",
       "  Marginal Log-Likelihood = -4.802"
      ]
     },
     "execution_count": 18,
     "metadata": {},
     "output_type": "execute_result"
    }
   ],
   "source": [
    "gp = GP(x,y,mZero,kern,-2.0)          # Fit the GP"
   ]
  },
  {
   "cell_type": "markdown",
   "metadata": {},
   "source": [
    "Using the [Optim](https://github.com/JuliaOpt/Optim.jl) package we have the option to choose from a range of optimize functions including conjugate gradients. It is also possible to fix the hyperparameters in either the mean function, kernel function or observation noise, by settting them to false in `optimize!` (e.g. `optimize!(...,mean=false)`)."
   ]
  },
  {
   "cell_type": "code",
   "execution_count": 19,
   "metadata": {},
   "outputs": [
    {
     "ename": "LoadError",
     "evalue": "UndefVarError: DifferentiableFunction not defined",
     "output_type": "error",
     "traceback": [
      "UndefVarError: DifferentiableFunction not defined",
      "",
      " in #get_optim_target#20(::Bool, ::Bool, ::Bool, ::Function, ::GaussianProcesses.GP) at C:\\Users\\Max\\.julia\\v0.5\\GaussianProcesses\\src\\optimize.jl:74",
      " in (::GaussianProcesses.#kw##get_optim_target)(::Array{Any,1}, ::GaussianProcesses.#get_optim_target, ::GaussianProcesses.GP) at .\\<missing>:0",
      " in #optimize!#19(::Bool, ::Bool, ::Bool, ::Optim.ConjugateGradient{Void,Optim.##57#59,LineSearches.#hagerzhang!}, ::Array{Any,1}, ::Function, ::GaussianProcesses.GP) at C:\\Users\\Max\\.julia\\v0.5\\GaussianProcesses\\src\\optimize.jl:17",
      " in optimize!(::GaussianProcesses.GP) at C:\\Users\\Max\\.julia\\v0.5\\GaussianProcesses\\src\\optimize.jl:17"
     ]
    }
   ],
   "source": [
    "optimize!(gp)                         # Optimize the hyperparameters"
   ]
  },
  {
   "cell_type": "markdown",
   "metadata": {},
   "source": [
    "A range of plotting options are availbe through the [Plots.jl](https://github.com/JuliaPlots/Plots.jl) package."
   ]
  },
  {
   "cell_type": "code",
   "execution_count": 20,
   "metadata": {},
   "outputs": [
    {
     "ename": "LoadError",
     "evalue": "In convertToAnyVector, could not handle the argument types: (GaussianProcesses.GP,)",
     "output_type": "error",
     "traceback": [
      "In convertToAnyVector, could not handle the argument types: (GaussianProcesses.GP,)",
      "",
      " in macro expansion at C:\\Users\\Max\\.julia\\v0.5\\Plots\\src\\series.jl:129 [inlined]",
      " in apply_recipe(::Dict{Symbol,Any}, ::Type{Plots.SliceIt}, ::Void, ::GaussianProcesses.GP, ::Void) at C:\\Users\\Max\\.julia\\v0.5\\RecipesBase\\src\\RecipesBase.jl:238",
      " in _process_userrecipes(::Plots.Plot{Plots.PyPlotBackend}, ::Dict{Symbol,Any}, ::Tuple{GaussianProcesses.GP}) at C:\\Users\\Max\\.julia\\v0.5\\Plots\\src\\pipeline.jl:73",
      " in _plot!(::Plots.Plot{Plots.PyPlotBackend}, ::Dict{Symbol,Any}, ::Tuple{GaussianProcesses.GP}) at C:\\Users\\Max\\.julia\\v0.5\\Plots\\src\\plot.jl:171",
      " in (::Plots.#kw##plot)(::Array{Any,1}, ::Plots.#plot, ::GaussianProcesses.GP) at .\\<missing>:0",
      " in #contour#378(::Array{Any,1}, ::Function, ::GaussianProcesses.GP, ::Vararg{GaussianProcesses.GP,N}) at C:\\Users\\Max\\.julia\\v0.5\\Plots\\src\\Plots.jl:139",
      " in contour(::GaussianProcesses.GP, ::Vararg{GaussianProcesses.GP,N}) at C:\\Users\\Max\\.julia\\v0.5\\Plots\\src\\Plots.jl:139"
     ]
    }
   ],
   "source": [
    "plot(contour(gp) ,heatmap(gp))"
   ]
  },
  {
   "cell_type": "code",
   "execution_count": null,
   "metadata": {
    "collapsed": true
   },
   "outputs": [],
   "source": []
  }
 ],
 "metadata": {
  "kernelspec": {
   "display_name": "Julia 0.5.1",
   "language": "julia",
   "name": "julia-0.5"
  },
  "language_info": {
   "file_extension": ".jl",
   "mimetype": "application/julia",
   "name": "julia",
   "version": "0.5.1"
  }
 },
 "nbformat": 4,
 "nbformat_minor": 2
}
