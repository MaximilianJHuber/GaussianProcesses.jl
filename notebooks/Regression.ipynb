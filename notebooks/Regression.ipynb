{
 "cells": [
  {
   "cell_type": "markdown",
   "metadata": {},
   "source": [
    "# Simple GP Regression "
   ]
  },
  {
   "cell_type": "markdown",
   "metadata": {},
   "source": [
    "Gaussian processes are a powerful tool for nonlinear regression models. \n",
    "\n",
    "Assume that we have **predictor** variables $\\mathbf{X} = \\{\\mathbf{x_i}\\}_{i=1}^N \\in \\mathbb{R}^d$ and **response** variables $\\mathbf{y}=\\{y_i \\in \\mathbb{R}\\}_{i=1}^N$.\n",
    "\n",
    "The response variables $\\mathbf{y}$ are assumed to dependent on the predictors $\\mathbf{X}$,\n",
    "\n",
    "\\begin{equation}\n",
    "y_i \\sim \\mathcal{N}(f(\\mathbf{x}_i),\\sigma^2), \\ i=1,\\ldots,n,  \n",
    "\\end{equation}\n",
    "\n",
    "where $f$ is a mapping function. Treating $f$ as a random function, we assume that the distribution over $f$ is a **Gaussian process**,\n",
    "$$\n",
    "f \\sim \\mathcal{GP}(m(\\mathbf{x}),k(\\mathbf{x},\\mathbf{x}')),\n",
    "$$\n",
    "where $m(\\cdot)$ and $k(\\cdot,\\cdot)$ are the mean and kernel functions respectively."
   ]
  },
  {
   "cell_type": "markdown",
   "metadata": {},
   "source": [
    "## 1D regression example"
   ]
  },
  {
   "cell_type": "markdown",
   "metadata": {},
   "source": [
    "We start by simulating some data"
   ]
  },
  {
   "cell_type": "code",
   "execution_count": 3,
   "metadata": {
    "scrolled": false
   },
   "outputs": [
    {
     "name": "stderr",
     "output_type": "stream",
     "text": [
      "\u001b[1m\u001b[36mINFO: \u001b[39m\u001b[22m\u001b[36mRemoving GaussianProcesses (unregistered)\n",
      "\u001b[39m\u001b[1m\u001b[36mINFO: \u001b[39m\u001b[22m\u001b[36mCloning GaussianProcesses from https://github.com/STOR-i/GaussianProcesses.jl.git\n",
      "\u001b[39m\u001b[1m\u001b[36mINFO: \u001b[39m\u001b[22m\u001b[36mComputing changes...\n",
      "\u001b[39m\u001b[1m\u001b[36mINFO: \u001b[39m\u001b[22m\u001b[36mNo packages to install, update or remove\n",
      "\u001b[39m\u001b[1m\u001b[36mINFO: \u001b[39m\u001b[22m\u001b[36mPackage database updated\n",
      "\u001b[39m"
     ]
    }
   ],
   "source": [
    "Pkg.rm(\"GaussianProcesses\")\n",
    "Pkg.clone(\"https://github.com/STOR-i/GaussianProcesses.jl.git\")"
   ]
  },
  {
   "cell_type": "code",
   "execution_count": null,
   "metadata": {},
   "outputs": [],
   "source": [
    "Pkg.update(\"ForwardDiff\")"
   ]
  },
  {
   "cell_type": "code",
   "execution_count": 10,
   "metadata": {},
   "outputs": [],
   "source": [
    "using GaussianProcesses\n",
    "\n",
    "srand(13579)\n",
    "# Training data\n",
    "n=10;                          #number of training points\n",
    "x = 2π * rand(n);              #predictors\n",
    "y = sin.(x) + 0.05*randn(n);    #regressors"
   ]
  },
  {
   "cell_type": "markdown",
   "metadata": {},
   "source": [
    "The first step in modelling with Gaussian Processes is to choose mean functions and kernels which describe the process. \n",
    "\n",
    "**Note** that all hyperparameters for the **mean** and **kernel** functions and $\\sigma$ are given on the log scale. This is true for all strictly positive hyperparameters. Gaussian Processes are represented by objects of type 'GP' and constructed from observation data, a mean function and kernel, and optionally the amount of observation noise."
   ]
  },
  {
   "cell_type": "code",
   "execution_count": 4,
   "metadata": {},
   "outputs": [
    {
     "data": {
      "text/plain": [
       "GP Exact object:\n",
       "  Dim = 1\n",
       "  Number of observations = 10\n",
       "  Mean function:\n",
       "    Type: GaussianProcesses.MeanZero, Params: Float64[]\n",
       "  Kernel:\n",
       "    Type: GaussianProcesses.SEIso, Params: [0.0,0.0]\n",
       "  Input observations = \n",
       "[5.66072 1.67222 … 6.08978 3.39451]\n",
       "  Output observations = [-0.505287,1.02312,0.616955,-0.777658,-0.875402,0.92976,-1.04525,-0.00543704,-0.301759,-0.364661]\n",
       "  Variance of observation noise = 0.1353352832366127\n",
       "  Marginal Log-Likelihood = -6.719"
      ]
     },
     "execution_count": 4,
     "metadata": {},
     "output_type": "execute_result"
    }
   ],
   "source": [
    "#Select mean and covariance function\n",
    "mZero = MeanZero()                   #Zero mean function\n",
    "kern = SE(0.0,0.0)                   #Sqaured exponential kernel (note that hyperparameters are on the log scale)\n",
    "\n",
    "logObsNoise = -1.0                        # log standard deviation of observation noise (this is optional)\n",
    "gp = GP(x,y,mZero,kern,logObsNoise)       #Fit the GP"
   ]
  },
  {
   "cell_type": "markdown",
   "metadata": {},
   "source": [
    "Once we've fit the `GP` function to the data, we can calculate the **predicted mean** and **variance** of of the function at unobserved points $\\{\\mathbf{x}^\\ast,y^\\ast\\}$, conditional on the observed data $\\mathcal{D}=\\{\\mathbf{y},\\mathbf{X}\\}$. This is done with the `predict_y` function.\n",
    "\n",
    "The `predict_y` function returns the mean vector $\\mu(\\mathbf{x}^\\ast)$ and covariance matrix (variance vector if `full_cov=false`) $\\Sigma(\\mathbf{x}^\\ast,\\mathbf{x}^{\\ast^\\top})$ of the predictive distribution,\n",
    "\\begin{equation}\n",
    "    y^\\ast|\\mathbf{x}^\\ast,\\mathcal{D} \\sim \\mathcal{N}(\\mu(\\mathbf{x}^\\ast),\\Sigma(\\mathbf{x}^\\ast,\\mathbf{x}^{\\ast^\\top})+\\sigma^2\\mathbf{I}),\n",
    "\\end{equation}\n",
    "where \n",
    "\\begin{eqnarray}\n",
    "\\mu(\\mathbf{x}^\\ast) &=& k(\\mathbf{x}^\\ast,\\mathbf{X})(k(\\mathbf{X}, \\mathbf{X}) + \\sigma_n^2 \\mathbf{I})^{-1}\\mathbf{y} \\\\ \\ \\mbox{and} \\\n",
    "\\Sigma(\\mathbf{x}^\\ast,\\mathbf{x}^{\\ast}) &=& k(\\mathbf{x}^\\ast,\\mathbf{x}^\\ast) -k(\\mathbf{x}^\\ast,\\mathbf{X})(k(\\mathbf{X}, \\mathbf{X})+ \\sigma_n^2 \\mathbf{I})^{-1} k(\\mathbf{X},\\mathbf{x}^\\ast).\n",
    "\\end{eqnarray}\n",
    "\n",
    "**Note** you can use the `predict_f` function to predict the latent function $\\mathbf{f}^\\ast$."
   ]
  },
  {
   "cell_type": "code",
   "execution_count": 5,
   "metadata": {},
   "outputs": [
    {
     "data": {
      "text/plain": [
       "([0.311184,0.337951,0.365981,0.395203,0.425524,0.456829,0.488984,0.521829,0.555183,0.588842  …  -0.558636,-0.516968,-0.475324,-0.434055,-0.39349,-0.353937,-0.315676,-0.278956,-0.243996,-0.210975],[0.479842,0.438988,0.401167,0.36694,0.336747,0.310882,0.289479,0.2725,0.259736,0.250822  …  0.178075,0.18118,0.185348,0.190892,0.198162,0.20752,0.219318,0.233879,0.251471,0.272291])"
      ]
     },
     "execution_count": 5,
     "metadata": {},
     "output_type": "execute_result"
    }
   ],
   "source": [
    "μ, σ² = predict_y(gp,linspace(0,2π,100))"
   ]
  },
  {
   "cell_type": "markdown",
   "metadata": {},
   "source": [
    "Plotting GPs is straightforward and utilises the recipes approach to plotting from the [Plots.jl](https://github.com/JuliaPlots/Plots.jl) package. More information about plotting GPs and the available functionality can be found in this [notebook](https://github.com/STOR-i/GaussianProcesses.jl/blob/master/notebooks/Plotting%20GPs.ipynb).\n",
    "\n",
    "The default plot function `plot(gp)` outputs the predicted mean and variance of the function (i.e. uses `predict_f` in the background), with the uncertainty in the function represented by a confidence ribbon (set to 95% by default). All optional plotting arguments are given after `;`."
   ]
  },
  {
   "cell_type": "code",
   "execution_count": 6,
   "metadata": {},
   "outputs": [
    {
     "data": {
      "text/html": [
       "<img src=\"data:image/png;base64,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\" />"
      ]
     },
     "execution_count": 6,
     "metadata": {},
     "output_type": "execute_result"
    }
   ],
   "source": [
    "using Plots  #Load Plots.jl package\n",
    "\n",
    "plot(gp; xlabel=\"x\", ylabel=\"y\", title=\"Gaussian process\", legend=false, fmt=:png)      #Plot the GP"
   ]
  },
  {
   "cell_type": "markdown",
   "metadata": {},
   "source": [
    "The hyperparameters are optimized using the [Optim.jl](https://github.com/JuliaOpt/Optim.jl) package. This offers users a range of optimization algorithms which can be applied to estimate the hyperparameters using type II maximum likelihood estimation. Gradients are available for all mean and kernel functions used in the package and therefore it is recommended that the user utilizes gradient based optimization techniques. As a default, the `optimize!` function uses the `L-BFGS` solver, however, alternative solvers can be applied. "
   ]
  },
  {
   "cell_type": "code",
   "execution_count": 7,
   "metadata": {},
   "outputs": [
    {
     "ename": "LoadError",
     "evalue": "type UnitializedOnceDifferentiable has no field last_x_f",
     "output_type": "error",
     "traceback": [
      "type UnitializedOnceDifferentiable has no field last_x_f",
      "",
      " in value_gradient! at C:\\Users\\Max\\.julia\\v0.5\\NLSolversBase\\src\\interface.jl:33 [inlined]",
      " in initial_state at C:\\Users\\Max\\.julia\\v0.5\\Optim\\src\\multivariate/solvers/first_order\\bfgs.jl:37 [inlined]",
      " in optimize(::NLSolversBase.UnitializedOnceDifferentiable, ::Array{Float64,1}, ::Optim.BFGS{LineSearches.#hagerzhang!,Optim.##62#64}, ::Optim.Options{Void}) at C:\\Users\\Max\\.julia\\v0.5\\Optim\\src\\multivariate/optimize\\optimize.jl:17",
      " in #optimize#97(::Array{Any,1}, ::Function, ::NLSolversBase.UnitializedOnceDifferentiable, ::Array{Float64,1}) at C:\\Users\\Max\\.julia\\v0.5\\Optim\\src\\multivariate/optimize\\interface.jl:41",
      " in (::Optim.#kw##optimize)(::Array{Any,1}, ::Optim.#optimize, ::NLSolversBase.UnitializedOnceDifferentiable, ::Array{Float64,1}) at .\\<missing>:0",
      " in #optimize!#89(::Optim.BFGS{LineSearches.#hagerzhang!,Optim.##62#64}, ::Array{Any,1}, ::Function, ::GaussianProcesses.GPE) at C:\\Users\\Max\\.julia\\v0.5\\GaussianProcesses\\src\\optimize.jl:17",
      " in (::GaussianProcesses.#kw##optimize!)(::Array{Any,1}, ::GaussianProcesses.#optimize!, ::GaussianProcesses.GPE) at .\\<missing>:0"
     ]
    }
   ],
   "source": [
    "optimize!(gp; method=Optim.BFGS())   #Optimise the hyperparameters"
   ]
  },
  {
   "cell_type": "code",
   "execution_count": 15,
   "metadata": {},
   "outputs": [
    {
     "ename": "LoadError",
     "evalue": "In convertToAnyVector, could not handle the argument types: (GaussianProcesses.GP,)",
     "output_type": "error",
     "traceback": [
      "In convertToAnyVector, could not handle the argument types: (GaussianProcesses.GP,)",
      "",
      " in macro expansion at C:\\Users\\Max\\.julia\\v0.5\\Plots\\src\\series.jl:129 [inlined]",
      " in apply_recipe(::Dict{Symbol,Any}, ::Type{Plots.SliceIt}, ::Void, ::GaussianProcesses.GP, ::Void) at C:\\Users\\Max\\.julia\\v0.5\\RecipesBase\\src\\RecipesBase.jl:238",
      " in _process_userrecipes(::Plots.Plot{Plots.PyPlotBackend}, ::Dict{Symbol,Any}, ::Tuple{GaussianProcesses.GP}) at C:\\Users\\Max\\.julia\\v0.5\\Plots\\src\\pipeline.jl:73",
      " in _plot!(::Plots.Plot{Plots.PyPlotBackend}, ::Dict{Symbol,Any}, ::Tuple{GaussianProcesses.GP}) at C:\\Users\\Max\\.julia\\v0.5\\Plots\\src\\plot.jl:171",
      " in plot(::GaussianProcesses.GP) at C:\\Users\\Max\\.julia\\v0.5\\Plots\\src\\plot.jl:46"
     ]
    }
   ],
   "source": [
    "plot(gp)   #Plot the GP after the hyperparameters have been optimised "
   ]
  },
  {
   "cell_type": "markdown",
   "metadata": {},
   "source": [
    "## Multi-dimensional regression"
   ]
  },
  {
   "cell_type": "markdown",
   "metadata": {},
   "source": [
    "The regression example above can be easily extended to higher dimensions. For the purpose of visualisation, and without loss of generality, we consider a 2 dimensional regression example."
   ]
  },
  {
   "cell_type": "code",
   "execution_count": 16,
   "metadata": {
    "collapsed": true
   },
   "outputs": [],
   "source": [
    "#Training data\n",
    "d, n = 2, 50;         #Dimension and number of observations\n",
    "x = 2π * rand(d, n);                               #Predictors\n",
    "y = vec(sin.(x[1,:]).*sin.(x[2,:])) + 0.05*rand(n);  #Responses"
   ]
  },
  {
   "cell_type": "markdown",
   "metadata": {},
   "source": [
    "For problems of dimension>1 we can use isotropic (`Iso`) kernels or automatic relevance determination (`ARD`) kernels. For `Iso` kernels, the length scale parameter $\\ell$ is the same for all dimensions. For `ARD` kernels, each dimension has different length scale parameter.\n",
    "\n",
    "The `Iso` and `ARD` kernels are implemented automatically by replacing the single length scale parameter with a vector of parameters. For example, below we use the Matern 5/2 `ARD` kernel, if we wanted to use the `Iso` alternative then we would set the kernel as `kern=Mat(5/2,0.0,0.0)`."
   ]
  },
  {
   "cell_type": "markdown",
   "metadata": {},
   "source": [
    "In this example we use a composite kernel represented as the sum of a Matern 5/2 ARD kernel and a Squared Exponential isotropic kernel. This is easily implemented using the `+` symbol, or in the case of a product kernel, using the `*` symbol (i.e. `kern = Mat(5/2,[0.0,0.0],0.0) * SE(0.0,0.0)`)."
   ]
  },
  {
   "cell_type": "code",
   "execution_count": 17,
   "metadata": {},
   "outputs": [
    {
     "ename": "LoadError",
     "evalue": "UndefVarError: Matern not defined",
     "output_type": "error",
     "traceback": [
      "UndefVarError: Matern not defined",
      ""
     ]
    }
   ],
   "source": [
    "mZero = MeanZero()                             # Zero mean function\n",
    "kern = Matern(5/2,[0.0,0.0],0.0) + SE(0.0,0.0)    # Sum kernel with Matern 5/2 ARD kernel \n",
    "                                               # with parameters [log(ℓ₁), log(ℓ₂)] = [0,0] and log(σ) = 0\n",
    "                                               # and Squared Exponential Iso kernel with\n",
    "                                               # parameters log(ℓ) = 0 and log(σ) = 0"
   ]
  },
  {
   "cell_type": "markdown",
   "metadata": {},
   "source": [
    "Fit the Gaussian process to the data using the prespecfied mean and covariance functions."
   ]
  },
  {
   "cell_type": "code",
   "execution_count": 18,
   "metadata": {},
   "outputs": [
    {
     "data": {
      "text/plain": [
       "GP object:\n",
       "  Dim = 2\n",
       "  Number of observations = 50\n",
       "  Mean function:\n",
       "    Type: GaussianProcesses.MeanConst, Params: [0.0]\n",
       "  Kernel:\n",
       "    Type: GaussianProcesses.SEIso, Params: [0.0,0.0]\n",
       "  Input observations = \n",
       "[1.43935 0.515919 … 0.487943 2.38029; 4.21509 3.59947 … 0.699132 4.09243]\n",
       "  Output observations = [-0.850956,-0.173897,0.555086,-0.579203,-0.116111,-0.304235,-0.192372,-0.55408,0.649668,-0.226597  …  -0.874219,-0.136116,0.485536,0.571545,-0.387655,0.200481,-0.33697,0.395318,0.340145,-0.545092]\n",
       "  Variance of observation noise = 0.01831563888873418\n",
       "  Marginal Log-Likelihood = -4.802"
      ]
     },
     "execution_count": 18,
     "metadata": {},
     "output_type": "execute_result"
    }
   ],
   "source": [
    "gp = GP(x,y,mZero,kern,-2.0)          # Fit the GP"
   ]
  },
  {
   "cell_type": "markdown",
   "metadata": {},
   "source": [
    "Using the [Optim](https://github.com/JuliaOpt/Optim.jl) package we have the option to choose from a range of optimize functions including conjugate gradients. It is also possible to fix the hyperparameters in either the mean function, kernel function or observation noise, by settting them to false in `optimize!` (e.g. `optimize!(...,mean=false)`)."
   ]
  },
  {
   "cell_type": "code",
   "execution_count": 19,
   "metadata": {},
   "outputs": [
    {
     "ename": "LoadError",
     "evalue": "UndefVarError: DifferentiableFunction not defined",
     "output_type": "error",
     "traceback": [
      "UndefVarError: DifferentiableFunction not defined",
      "",
      " in #get_optim_target#20(::Bool, ::Bool, ::Bool, ::Function, ::GaussianProcesses.GP) at C:\\Users\\Max\\.julia\\v0.5\\GaussianProcesses\\src\\optimize.jl:74",
      " in (::GaussianProcesses.#kw##get_optim_target)(::Array{Any,1}, ::GaussianProcesses.#get_optim_target, ::GaussianProcesses.GP) at .\\<missing>:0",
      " in #optimize!#19(::Bool, ::Bool, ::Bool, ::Optim.ConjugateGradient{Void,Optim.##57#59,LineSearches.#hagerzhang!}, ::Array{Any,1}, ::Function, ::GaussianProcesses.GP) at C:\\Users\\Max\\.julia\\v0.5\\GaussianProcesses\\src\\optimize.jl:17",
      " in optimize!(::GaussianProcesses.GP) at C:\\Users\\Max\\.julia\\v0.5\\GaussianProcesses\\src\\optimize.jl:17"
     ]
    }
   ],
   "source": [
    "optimize!(gp)                         # Optimize the hyperparameters"
   ]
  },
  {
   "cell_type": "markdown",
   "metadata": {},
   "source": [
    "A range of plotting options are availbe through the [Plots.jl](https://github.com/JuliaPlots/Plots.jl) package."
   ]
  },
  {
   "cell_type": "code",
   "execution_count": 20,
   "metadata": {},
   "outputs": [
    {
     "ename": "LoadError",
     "evalue": "In convertToAnyVector, could not handle the argument types: (GaussianProcesses.GP,)",
     "output_type": "error",
     "traceback": [
      "In convertToAnyVector, could not handle the argument types: (GaussianProcesses.GP,)",
      "",
      " in macro expansion at C:\\Users\\Max\\.julia\\v0.5\\Plots\\src\\series.jl:129 [inlined]",
      " in apply_recipe(::Dict{Symbol,Any}, ::Type{Plots.SliceIt}, ::Void, ::GaussianProcesses.GP, ::Void) at C:\\Users\\Max\\.julia\\v0.5\\RecipesBase\\src\\RecipesBase.jl:238",
      " in _process_userrecipes(::Plots.Plot{Plots.PyPlotBackend}, ::Dict{Symbol,Any}, ::Tuple{GaussianProcesses.GP}) at C:\\Users\\Max\\.julia\\v0.5\\Plots\\src\\pipeline.jl:73",
      " in _plot!(::Plots.Plot{Plots.PyPlotBackend}, ::Dict{Symbol,Any}, ::Tuple{GaussianProcesses.GP}) at C:\\Users\\Max\\.julia\\v0.5\\Plots\\src\\plot.jl:171",
      " in (::Plots.#kw##plot)(::Array{Any,1}, ::Plots.#plot, ::GaussianProcesses.GP) at .\\<missing>:0",
      " in #contour#378(::Array{Any,1}, ::Function, ::GaussianProcesses.GP, ::Vararg{GaussianProcesses.GP,N}) at C:\\Users\\Max\\.julia\\v0.5\\Plots\\src\\Plots.jl:139",
      " in contour(::GaussianProcesses.GP, ::Vararg{GaussianProcesses.GP,N}) at C:\\Users\\Max\\.julia\\v0.5\\Plots\\src\\Plots.jl:139"
     ]
    }
   ],
   "source": [
    "plot(contour(gp) ,heatmap(gp))"
   ]
  },
  {
   "cell_type": "code",
   "execution_count": null,
   "metadata": {
    "collapsed": true
   },
   "outputs": [],
   "source": []
  }
 ],
 "metadata": {
  "kernelspec": {
   "display_name": "Julia 0.6.0",
   "language": "julia",
   "name": "julia-0.6"
  },
  "language_info": {
   "file_extension": ".jl",
   "mimetype": "application/julia",
   "name": "julia",
   "version": "0.6.0"
  }
 },
 "nbformat": 4,
 "nbformat_minor": 2
}
